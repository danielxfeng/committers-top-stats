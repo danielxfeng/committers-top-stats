{
 "cells": [
  {
   "cell_type": "markdown",
   "id": "c284b71b",
   "metadata": {},
   "source": [
    "# Some statistic for top.committer\n",
    "\n",
    "By [Xin (Daniel) Feng](https://danielslab.dev/)"
   ]
  },
  {
   "cell_type": "markdown",
   "id": "84bb6e00",
   "metadata": {},
   "source": [
    "## Data Preparation"
   ]
  },
  {
   "cell_type": "code",
   "execution_count": 33,
   "id": "4e9979bc",
   "metadata": {},
   "outputs": [
    {
     "data": {
      "text/html": [
       "<div>\n",
       "<style scoped>\n",
       "    .dataframe tbody tr th:only-of-type {\n",
       "        vertical-align: middle;\n",
       "    }\n",
       "\n",
       "    .dataframe tbody tr th {\n",
       "        vertical-align: top;\n",
       "    }\n",
       "\n",
       "    .dataframe thead th {\n",
       "        text-align: right;\n",
       "    }\n",
       "</style>\n",
       "<table border=\"1\" class=\"dataframe\">\n",
       "  <thead>\n",
       "    <tr style=\"text-align: right;\">\n",
       "      <th></th>\n",
       "      <th>country</th>\n",
       "      <th>rank_type</th>\n",
       "      <th>user_id</th>\n",
       "      <th>contribs</th>\n",
       "    </tr>\n",
       "  </thead>\n",
       "  <tbody>\n",
       "    <tr>\n",
       "      <th>0</th>\n",
       "      <td>Afghanistan</td>\n",
       "      <td>commit</td>\n",
       "      <td>Nasratullah-Shafiq</td>\n",
       "      <td>3713</td>\n",
       "    </tr>\n",
       "    <tr>\n",
       "      <th>1</th>\n",
       "      <td>Afghanistan</td>\n",
       "      <td>commit</td>\n",
       "      <td>MastooraTurkmen</td>\n",
       "      <td>2044</td>\n",
       "    </tr>\n",
       "    <tr>\n",
       "      <th>2</th>\n",
       "      <td>Afghanistan</td>\n",
       "      <td>commit</td>\n",
       "      <td>Hussain-hamim</td>\n",
       "      <td>1972</td>\n",
       "    </tr>\n",
       "    <tr>\n",
       "      <th>3</th>\n",
       "      <td>Afghanistan</td>\n",
       "      <td>commit</td>\n",
       "      <td>sulaimanQasimi</td>\n",
       "      <td>1652</td>\n",
       "    </tr>\n",
       "    <tr>\n",
       "      <th>4</th>\n",
       "      <td>Afghanistan</td>\n",
       "      <td>commit</td>\n",
       "      <td>WiyarAhmadZai</td>\n",
       "      <td>1478</td>\n",
       "    </tr>\n",
       "  </tbody>\n",
       "</table>\n",
       "</div>"
      ],
      "text/plain": [
       "       country rank_type             user_id  contribs\n",
       "0  Afghanistan    commit  Nasratullah-Shafiq      3713\n",
       "1  Afghanistan    commit     MastooraTurkmen      2044\n",
       "2  Afghanistan    commit       Hussain-hamim      1972\n",
       "3  Afghanistan    commit      sulaimanQasimi      1652\n",
       "4  Afghanistan    commit       WiyarAhmadZai      1478"
      ]
     },
     "execution_count": 33,
     "metadata": {},
     "output_type": "execute_result"
    }
   ],
   "source": [
    "import pandas as pd\n",
    "from pandas import DataFrame\n",
    "import matplotlib.pyplot as plt\n",
    "\n",
    "FILE_NAME : str = \"data.csv\"\n",
    "refetch : bool = False\n",
    "\n",
    "def load_data(retry : int) -> DataFrame:\n",
    "    global refetch\n",
    "\n",
    "    if (retry <= 0):\n",
    "        raise Exception(\"Failed to load data after multiple attempts.\")\n",
    "\n",
    "    try:\n",
    "        if refetch:\n",
    "            refetch = False\n",
    "            raise Exception(\"Forcing re-fetch.\")\n",
    "\n",
    "        return pd.read_csv(FILE_NAME)\n",
    "    except Exception:\n",
    "        from top_committer_fetcher import fetcher\n",
    "        fetcher()\n",
    "        return load_data(retry - 1)\n",
    "\n",
    "df = load_data(3)\n",
    "df.head()"
   ]
  },
  {
   "cell_type": "markdown",
   "id": "e4d03fec",
   "metadata": {},
   "source": [
    "## Data Cleaning"
   ]
  },
  {
   "cell_type": "code",
   "execution_count": 34,
   "id": "0caeac38",
   "metadata": {},
   "outputs": [
    {
     "data": {
      "text/plain": [
       "country      0\n",
       "rank_type    0\n",
       "user_id      0\n",
       "contribs     0\n",
       "dtype: int64"
      ]
     },
     "execution_count": 34,
     "metadata": {},
     "output_type": "execute_result"
    }
   ],
   "source": [
    "# Check outliers\n",
    "df.isnull().sum()"
   ]
  },
  {
   "cell_type": "code",
   "execution_count": 35,
   "id": "ef58cb11",
   "metadata": {},
   "outputs": [
    {
     "data": {
      "text/html": [
       "<div>\n",
       "<style scoped>\n",
       "    .dataframe tbody tr th:only-of-type {\n",
       "        vertical-align: middle;\n",
       "    }\n",
       "\n",
       "    .dataframe tbody tr th {\n",
       "        vertical-align: top;\n",
       "    }\n",
       "\n",
       "    .dataframe thead th {\n",
       "        text-align: right;\n",
       "    }\n",
       "</style>\n",
       "<table border=\"1\" class=\"dataframe\">\n",
       "  <thead>\n",
       "    <tr style=\"text-align: right;\">\n",
       "      <th></th>\n",
       "      <th>country</th>\n",
       "      <th>rank_type</th>\n",
       "      <th>user_id</th>\n",
       "      <th>contribs</th>\n",
       "    </tr>\n",
       "  </thead>\n",
       "  <tbody>\n",
       "    <tr>\n",
       "      <th>6656</th>\n",
       "      <td>Azerbaijan</td>\n",
       "      <td>private</td>\n",
       "      <td>qabilm</td>\n",
       "      <td>111986481</td>\n",
       "    </tr>\n",
       "    <tr>\n",
       "      <th>6400</th>\n",
       "      <td>Azerbaijan</td>\n",
       "      <td>public</td>\n",
       "      <td>qabilm</td>\n",
       "      <td>111986481</td>\n",
       "    </tr>\n",
       "    <tr>\n",
       "      <th>6144</th>\n",
       "      <td>Azerbaijan</td>\n",
       "      <td>commit</td>\n",
       "      <td>qabilm</td>\n",
       "      <td>111986480</td>\n",
       "    </tr>\n",
       "    <tr>\n",
       "      <th>77463</th>\n",
       "      <td>Philippines</td>\n",
       "      <td>private</td>\n",
       "      <td>0x3EF8</td>\n",
       "      <td>20456296</td>\n",
       "    </tr>\n",
       "    <tr>\n",
       "      <th>77207</th>\n",
       "      <td>Philippines</td>\n",
       "      <td>public</td>\n",
       "      <td>0x3EF8</td>\n",
       "      <td>20456085</td>\n",
       "    </tr>\n",
       "    <tr>\n",
       "      <th>76951</th>\n",
       "      <td>Philippines</td>\n",
       "      <td>commit</td>\n",
       "      <td>0x3EF8</td>\n",
       "      <td>20456060</td>\n",
       "    </tr>\n",
       "    <tr>\n",
       "      <th>77464</th>\n",
       "      <td>Philippines</td>\n",
       "      <td>private</td>\n",
       "      <td>eru123</td>\n",
       "      <td>15945918</td>\n",
       "    </tr>\n",
       "    <tr>\n",
       "      <th>77208</th>\n",
       "      <td>Philippines</td>\n",
       "      <td>public</td>\n",
       "      <td>eru123</td>\n",
       "      <td>15944563</td>\n",
       "    </tr>\n",
       "    <tr>\n",
       "      <th>76952</th>\n",
       "      <td>Philippines</td>\n",
       "      <td>commit</td>\n",
       "      <td>eru123</td>\n",
       "      <td>15944559</td>\n",
       "    </tr>\n",
       "    <tr>\n",
       "      <th>77465</th>\n",
       "      <td>Philippines</td>\n",
       "      <td>private</td>\n",
       "      <td>xiv3r</td>\n",
       "      <td>6292446</td>\n",
       "    </tr>\n",
       "    <tr>\n",
       "      <th>77209</th>\n",
       "      <td>Philippines</td>\n",
       "      <td>public</td>\n",
       "      <td>xiv3r</td>\n",
       "      <td>6292446</td>\n",
       "    </tr>\n",
       "    <tr>\n",
       "      <th>76953</th>\n",
       "      <td>Philippines</td>\n",
       "      <td>commit</td>\n",
       "      <td>xiv3r</td>\n",
       "      <td>6292322</td>\n",
       "    </tr>\n",
       "    <tr>\n",
       "      <th>85911</th>\n",
       "      <td>Singapore</td>\n",
       "      <td>private</td>\n",
       "      <td>u1i</td>\n",
       "      <td>1807553</td>\n",
       "    </tr>\n",
       "    <tr>\n",
       "      <th>6657</th>\n",
       "      <td>Azerbaijan</td>\n",
       "      <td>private</td>\n",
       "      <td>RVFET</td>\n",
       "      <td>1043410</td>\n",
       "    </tr>\n",
       "    <tr>\n",
       "      <th>6401</th>\n",
       "      <td>Azerbaijan</td>\n",
       "      <td>public</td>\n",
       "      <td>RVFET</td>\n",
       "      <td>1042325</td>\n",
       "    </tr>\n",
       "    <tr>\n",
       "      <th>6145</th>\n",
       "      <td>Azerbaijan</td>\n",
       "      <td>commit</td>\n",
       "      <td>RVFET</td>\n",
       "      <td>1042314</td>\n",
       "    </tr>\n",
       "    <tr>\n",
       "      <th>42135</th>\n",
       "      <td>Iran</td>\n",
       "      <td>private</td>\n",
       "      <td>bugbounted</td>\n",
       "      <td>700618</td>\n",
       "    </tr>\n",
       "    <tr>\n",
       "      <th>41879</th>\n",
       "      <td>Iran</td>\n",
       "      <td>public</td>\n",
       "      <td>bugbounted</td>\n",
       "      <td>700517</td>\n",
       "    </tr>\n",
       "    <tr>\n",
       "      <th>41623</th>\n",
       "      <td>Iran</td>\n",
       "      <td>commit</td>\n",
       "      <td>bugbounted</td>\n",
       "      <td>700416</td>\n",
       "    </tr>\n",
       "    <tr>\n",
       "      <th>40599</th>\n",
       "      <td>India</td>\n",
       "      <td>private</td>\n",
       "      <td>farhan7reza7</td>\n",
       "      <td>459015</td>\n",
       "    </tr>\n",
       "  </tbody>\n",
       "</table>\n",
       "</div>"
      ],
      "text/plain": [
       "           country rank_type       user_id   contribs\n",
       "6656    Azerbaijan   private        qabilm  111986481\n",
       "6400    Azerbaijan    public        qabilm  111986481\n",
       "6144    Azerbaijan    commit        qabilm  111986480\n",
       "77463  Philippines   private        0x3EF8   20456296\n",
       "77207  Philippines    public        0x3EF8   20456085\n",
       "76951  Philippines    commit        0x3EF8   20456060\n",
       "77464  Philippines   private        eru123   15945918\n",
       "77208  Philippines    public        eru123   15944563\n",
       "76952  Philippines    commit        eru123   15944559\n",
       "77465  Philippines   private         xiv3r    6292446\n",
       "77209  Philippines    public         xiv3r    6292446\n",
       "76953  Philippines    commit         xiv3r    6292322\n",
       "85911    Singapore   private           u1i    1807553\n",
       "6657    Azerbaijan   private         RVFET    1043410\n",
       "6401    Azerbaijan    public         RVFET    1042325\n",
       "6145    Azerbaijan    commit         RVFET    1042314\n",
       "42135         Iran   private    bugbounted     700618\n",
       "41879         Iran    public    bugbounted     700517\n",
       "41623         Iran    commit    bugbounted     700416\n",
       "40599        India   private  farhan7reza7     459015"
      ]
     },
     "execution_count": 35,
     "metadata": {},
     "output_type": "execute_result"
    }
   ],
   "source": [
    "df.sort_values(by=\"contribs\", ascending=False, inplace=True)\n",
    "df.head(20)"
   ]
  },
  {
   "cell_type": "code",
   "execution_count": 36,
   "id": "03045298",
   "metadata": {},
   "outputs": [
    {
     "data": {
      "text/html": [
       "<div>\n",
       "<style scoped>\n",
       "    .dataframe tbody tr th:only-of-type {\n",
       "        vertical-align: middle;\n",
       "    }\n",
       "\n",
       "    .dataframe tbody tr th {\n",
       "        vertical-align: top;\n",
       "    }\n",
       "\n",
       "    .dataframe thead th {\n",
       "        text-align: right;\n",
       "    }\n",
       "</style>\n",
       "<table border=\"1\" class=\"dataframe\">\n",
       "  <thead>\n",
       "    <tr style=\"text-align: right;\">\n",
       "      <th></th>\n",
       "      <th>country</th>\n",
       "      <th>rank_type</th>\n",
       "      <th>user_id</th>\n",
       "      <th>contribs</th>\n",
       "    </tr>\n",
       "  </thead>\n",
       "  <tbody>\n",
       "    <tr>\n",
       "      <th>98532</th>\n",
       "      <td>The Bahamas</td>\n",
       "      <td>commit</td>\n",
       "      <td>ShoneNairn</td>\n",
       "      <td>0</td>\n",
       "    </tr>\n",
       "    <tr>\n",
       "      <th>98531</th>\n",
       "      <td>The Bahamas</td>\n",
       "      <td>commit</td>\n",
       "      <td>manerpuyawan</td>\n",
       "      <td>0</td>\n",
       "    </tr>\n",
       "    <tr>\n",
       "      <th>98530</th>\n",
       "      <td>The Bahamas</td>\n",
       "      <td>commit</td>\n",
       "      <td>snsmith92</td>\n",
       "      <td>0</td>\n",
       "    </tr>\n",
       "    <tr>\n",
       "      <th>98529</th>\n",
       "      <td>The Bahamas</td>\n",
       "      <td>commit</td>\n",
       "      <td>a9eesh</td>\n",
       "      <td>0</td>\n",
       "    </tr>\n",
       "    <tr>\n",
       "      <th>98528</th>\n",
       "      <td>The Bahamas</td>\n",
       "      <td>commit</td>\n",
       "      <td>byabbie</td>\n",
       "      <td>0</td>\n",
       "    </tr>\n",
       "    <tr>\n",
       "      <th>98526</th>\n",
       "      <td>The Bahamas</td>\n",
       "      <td>commit</td>\n",
       "      <td>daninthiaf</td>\n",
       "      <td>0</td>\n",
       "    </tr>\n",
       "    <tr>\n",
       "      <th>98513</th>\n",
       "      <td>The Bahamas</td>\n",
       "      <td>commit</td>\n",
       "      <td>IndyZR</td>\n",
       "      <td>0</td>\n",
       "    </tr>\n",
       "    <tr>\n",
       "      <th>98525</th>\n",
       "      <td>The Bahamas</td>\n",
       "      <td>commit</td>\n",
       "      <td>VedaBeans</td>\n",
       "      <td>0</td>\n",
       "    </tr>\n",
       "    <tr>\n",
       "      <th>98524</th>\n",
       "      <td>The Bahamas</td>\n",
       "      <td>commit</td>\n",
       "      <td>FEMSTEM242</td>\n",
       "      <td>0</td>\n",
       "    </tr>\n",
       "    <tr>\n",
       "      <th>98523</th>\n",
       "      <td>The Bahamas</td>\n",
       "      <td>commit</td>\n",
       "      <td>ManInTheSky</td>\n",
       "      <td>0</td>\n",
       "    </tr>\n",
       "    <tr>\n",
       "      <th>98522</th>\n",
       "      <td>The Bahamas</td>\n",
       "      <td>commit</td>\n",
       "      <td>anthonyjrg</td>\n",
       "      <td>0</td>\n",
       "    </tr>\n",
       "    <tr>\n",
       "      <th>98521</th>\n",
       "      <td>The Bahamas</td>\n",
       "      <td>commit</td>\n",
       "      <td>feliciawoodside</td>\n",
       "      <td>0</td>\n",
       "    </tr>\n",
       "    <tr>\n",
       "      <th>98520</th>\n",
       "      <td>The Bahamas</td>\n",
       "      <td>commit</td>\n",
       "      <td>Azuregold242</td>\n",
       "      <td>0</td>\n",
       "    </tr>\n",
       "    <tr>\n",
       "      <th>98519</th>\n",
       "      <td>The Bahamas</td>\n",
       "      <td>commit</td>\n",
       "      <td>MrEgs</td>\n",
       "      <td>0</td>\n",
       "    </tr>\n",
       "    <tr>\n",
       "      <th>98518</th>\n",
       "      <td>The Bahamas</td>\n",
       "      <td>commit</td>\n",
       "      <td>Niikii-J</td>\n",
       "      <td>0</td>\n",
       "    </tr>\n",
       "    <tr>\n",
       "      <th>98517</th>\n",
       "      <td>The Bahamas</td>\n",
       "      <td>commit</td>\n",
       "      <td>Munnyo</td>\n",
       "      <td>0</td>\n",
       "    </tr>\n",
       "    <tr>\n",
       "      <th>98516</th>\n",
       "      <td>The Bahamas</td>\n",
       "      <td>commit</td>\n",
       "      <td>dreamrsunite</td>\n",
       "      <td>0</td>\n",
       "    </tr>\n",
       "    <tr>\n",
       "      <th>98515</th>\n",
       "      <td>The Bahamas</td>\n",
       "      <td>commit</td>\n",
       "      <td>wheepbot</td>\n",
       "      <td>0</td>\n",
       "    </tr>\n",
       "    <tr>\n",
       "      <th>98514</th>\n",
       "      <td>The Bahamas</td>\n",
       "      <td>commit</td>\n",
       "      <td>smokie-j</td>\n",
       "      <td>0</td>\n",
       "    </tr>\n",
       "    <tr>\n",
       "      <th>99097</th>\n",
       "      <td>The Bahamas</td>\n",
       "      <td>private</td>\n",
       "      <td>ShoneNairn</td>\n",
       "      <td>0</td>\n",
       "    </tr>\n",
       "  </tbody>\n",
       "</table>\n",
       "</div>"
      ],
      "text/plain": [
       "           country rank_type          user_id  contribs\n",
       "98532  The Bahamas    commit       ShoneNairn         0\n",
       "98531  The Bahamas    commit     manerpuyawan         0\n",
       "98530  The Bahamas    commit        snsmith92         0\n",
       "98529  The Bahamas    commit           a9eesh         0\n",
       "98528  The Bahamas    commit          byabbie         0\n",
       "98526  The Bahamas    commit       daninthiaf         0\n",
       "98513  The Bahamas    commit           IndyZR         0\n",
       "98525  The Bahamas    commit        VedaBeans         0\n",
       "98524  The Bahamas    commit       FEMSTEM242         0\n",
       "98523  The Bahamas    commit      ManInTheSky         0\n",
       "98522  The Bahamas    commit       anthonyjrg         0\n",
       "98521  The Bahamas    commit  feliciawoodside         0\n",
       "98520  The Bahamas    commit     Azuregold242         0\n",
       "98519  The Bahamas    commit            MrEgs         0\n",
       "98518  The Bahamas    commit         Niikii-J         0\n",
       "98517  The Bahamas    commit           Munnyo         0\n",
       "98516  The Bahamas    commit     dreamrsunite         0\n",
       "98515  The Bahamas    commit         wheepbot         0\n",
       "98514  The Bahamas    commit         smokie-j         0\n",
       "99097  The Bahamas   private       ShoneNairn         0"
      ]
     },
     "execution_count": 36,
     "metadata": {},
     "output_type": "execute_result"
    }
   ],
   "source": [
    "df.tail(20)"
   ]
  },
  {
   "cell_type": "code",
   "execution_count": 37,
   "id": "fd9c763d",
   "metadata": {},
   "outputs": [
    {
     "data": {
      "image/png": "[encoded data removed]",
      "text/plain": [
       "<Figure size 600x300 with 1 Axes>"
      ]
     },
     "metadata": {},
     "output_type": "display_data"
    }
   ],
   "source": [
    "import numpy as np\n",
    "\n",
    "plt.figure(figsize=(6, 3))\n",
    "plt.boxplot(np.log1p(df[\"contribs\"]), vert=True)\n",
    "plt.show()"
   ]
  },
  {
   "cell_type": "code",
   "execution_count": 38,
   "id": "10535cc6",
   "metadata": {},
   "outputs": [
    {
     "name": "stdout",
     "output_type": "stream",
     "text": [
      "Removed 8465 outliers\n"
     ]
    },
    {
     "data": {
      "image/png": "[encoded data removed]",
      "text/plain": [
       "<Figure size 600x300 with 1 Axes>"
      ]
     },
     "metadata": {},
     "output_type": "display_data"
    }
   ],
   "source": [
    "q1 = df[\"contribs\"].quantile(0.25)\n",
    "q3 = df[\"contribs\"].quantile(0.75)\n",
    "iqr = q3 - q1\n",
    "\n",
    "lower = 10\n",
    "upper = q3 + 10 * iqr\n",
    "\n",
    "filtered = df[(df[\"contribs\"] >= lower) & (df[\"contribs\"] <= upper)]\n",
    "print(f\"Removed {len(df) - len(filtered)} outliers\")\n",
    "\n",
    "plt.figure(figsize=(6, 3))\n",
    "plt.boxplot(np.log1p(filtered[\"contribs\"]), vert=True)\n",
    "plt.show()"
   ]
  },
  {
   "cell_type": "markdown",
   "id": "7a060638",
   "metadata": {},
   "source": [
    "## Statistic"
   ]
  },
  {
   "cell_type": "code",
   "execution_count": 39,
   "id": "dbc6d9e2",
   "metadata": {},
   "outputs": [
    {
     "data": {
      "text/html": [
       "<div>\n",
       "<style scoped>\n",
       "    .dataframe tbody tr th:only-of-type {\n",
       "        vertical-align: middle;\n",
       "    }\n",
       "\n",
       "    .dataframe tbody tr th {\n",
       "        vertical-align: top;\n",
       "    }\n",
       "\n",
       "    .dataframe thead th {\n",
       "        text-align: right;\n",
       "    }\n",
       "</style>\n",
       "<table border=\"1\" class=\"dataframe\">\n",
       "  <thead>\n",
       "    <tr style=\"text-align: right;\">\n",
       "      <th></th>\n",
       "      <th>country</th>\n",
       "      <th>rank_type</th>\n",
       "      <th>user_id</th>\n",
       "      <th>contribs</th>\n",
       "    </tr>\n",
       "  </thead>\n",
       "  <tbody>\n",
       "    <tr>\n",
       "      <th>77477</th>\n",
       "      <td>Philippines</td>\n",
       "      <td>private</td>\n",
       "      <td>kermage</td>\n",
       "      <td>9504</td>\n",
       "    </tr>\n",
       "    <tr>\n",
       "      <th>105889</th>\n",
       "      <td>United States</td>\n",
       "      <td>private</td>\n",
       "      <td>josh</td>\n",
       "      <td>9498</td>\n",
       "    </tr>\n",
       "    <tr>\n",
       "      <th>19658</th>\n",
       "      <td>China</td>\n",
       "      <td>private</td>\n",
       "      <td>zhw2590582</td>\n",
       "      <td>9495</td>\n",
       "    </tr>\n",
       "    <tr>\n",
       "      <th>46756</th>\n",
       "      <td>Japan</td>\n",
       "      <td>private</td>\n",
       "      <td>sile</td>\n",
       "      <td>9478</td>\n",
       "    </tr>\n",
       "    <tr>\n",
       "      <th>93590</th>\n",
       "      <td>Sweden</td>\n",
       "      <td>private</td>\n",
       "      <td>Lauszus</td>\n",
       "      <td>9471</td>\n",
       "    </tr>\n",
       "  </tbody>\n",
       "</table>\n",
       "</div>"
      ],
      "text/plain": [
       "              country rank_type     user_id  contribs\n",
       "77477     Philippines   private     kermage      9504\n",
       "105889  United States   private        josh      9498\n",
       "19658           China   private  zhw2590582      9495\n",
       "46756           Japan   private        sile      9478\n",
       "93590          Sweden   private     Lauszus      9471"
      ]
     },
     "execution_count": 39,
     "metadata": {},
     "output_type": "execute_result"
    }
   ],
   "source": [
    "# Use contributes among all repos\n",
    "all = filtered[filtered[\"rank_type\"] == \"private\"].sort_values(by=\"contribs\", ascending=False)\n",
    "all.head()"
   ]
  },
  {
   "cell_type": "code",
   "execution_count": 40,
   "id": "f5769de0",
   "metadata": {},
   "outputs": [
    {
     "name": "stdout",
     "output_type": "stream",
     "text": [
      "The top country is Japan with an average of 3955.76 contributions.\n",
      "The bottom country is South Sudan with an average of 21.00 contributions.\n",
      "Finland is ranked #27 in average contributions per country.\n"
     ]
    },
    {
     "data": {
      "image/png": "[encoded data removed]",
      "text/plain": [
       "<Figure size 1000x500 with 1 Axes>"
      ]
     },
     "metadata": {},
     "output_type": "display_data"
    }
   ],
   "source": [
    "# Average contributes per country\n",
    "avg = (\n",
    "    filtered[filtered[\"rank_type\"] == \"private\"]\n",
    "    .groupby(\"country\", as_index=False)[\"contribs\"]\n",
    "    .mean()\n",
    ")\n",
    "\n",
    "avg.sort_values(by=\"contribs\", ascending=False, inplace=True)\n",
    "avg.reset_index(drop=True, inplace=True)\n",
    "\n",
    "avg.head()\n",
    "\n",
    "fi_idx = avg[avg[\"country\"] == \"Finland\"].index[0]\n",
    "print(f\"The top country is {avg.iloc[0]['country']} with an average of {avg.iloc[0]['contribs']:.2f} contributions.\")\n",
    "print(f\"The bottom country is {avg.iloc[-1]['country']} with an average of {avg.iloc[-1]['contribs']:.2f} contributions.\")\n",
    "print(f\"Finland is ranked #{fi_idx + 1} in average contributions per country.\")\n",
    "\n",
    "avg_top30 = avg.head(30)\n",
    "plt.figure(figsize=(10, 5))\n",
    "plt.bar(avg_top30[\"country\"], avg_top30[\"contribs\"])\n",
    "plt.xticks(rotation=90)\n",
    "plt.ylabel(\"Average contributions\")\n",
    "plt.title(\"Top committers’ average contributions by country (Top 30)\")\n",
    "\n",
    "plt.gca().patches[fi_idx].set_color(\"skyblue\")\n",
    "plt.gca().annotate(\n",
    "    f\"{avg.iloc[fi_idx]['contribs']:.2f}\",\n",
    "    xy=(fi_idx, avg.iloc[fi_idx]['contribs']),\n",
    "    xytext=(fi_idx, avg.iloc[fi_idx]['contribs'] + 200),\n",
    "    arrowprops=dict(facecolor='black', arrowstyle='->'),\n",
    "    ha='center'\n",
    ")\n",
    "\n",
    "avg_mean = avg[\"contribs\"].mean()\n",
    "\n",
    "# also show the average line\n",
    "plt.axhline(y=avg_mean, color='r', linestyle='--', label=f\"Overall Average: {avg_mean:.2f}\")\n",
    "plt.legend()\n",
    "plt.show()"
   ]
  },
  {
   "cell_type": "code",
   "execution_count": 41,
   "id": "48113ca3",
   "metadata": {},
   "outputs": [
    {
     "name": "stdout",
     "output_type": "stream",
     "text": [
      "The top country is Chad with a public contributions percentage of 79.84%.\n",
      "The bottom country is Iraq with a public contributions percentage of 10.78%.\n",
      "Finland is ranked #25 in public contributions percentage.\n"
     ]
    },
    {
     "data": {
      "text/plain": [
       "Text(0.5, 1.0, 'Top committers’ public contributions percentage by country (Top 30)')"
      ]
     },
     "execution_count": 41,
     "metadata": {},
     "output_type": "execute_result"
    },
    {
     "data": {
      "image/png": "[encoded data removed]",
      "text/plain": [
       "<Figure size 1000x500 with 1 Axes>"
      ]
     },
     "metadata": {},
     "output_type": "display_data"
    }
   ],
   "source": [
    "# Public contributions vs All contributions\n",
    "public_sum_by_country = (\n",
    "    filtered[filtered[\"rank_type\"] == \"public\"].groupby(\"country\")[\"contribs\"].sum()\n",
    ")\n",
    "\n",
    "all_sum_by_country = (\n",
    "    filtered[filtered[\"rank_type\"] == \"private\"].groupby(\"country\")[\"contribs\"].sum()\n",
    ")\n",
    "\n",
    "ratio_by_country = (\n",
    "    (public_sum_by_country / all_sum_by_country * 100)\n",
    "    .dropna()\n",
    "    .sort_values(ascending=False)\n",
    "    .reset_index()\n",
    ")\n",
    "\n",
    "ratio_by_country.columns = [\"country\", \"public_ratio\"]\n",
    "\n",
    "fi_idx = ratio_by_country[ratio_by_country[\"country\"] == \"Finland\"].index[0]\n",
    "print(\n",
    "    f\"The top country is {ratio_by_country.iloc[0]['country']} with a public contributions percentage of {ratio_by_country.iloc[0]['public_ratio']:.2f}%.\"\n",
    ")\n",
    "print(\n",
    "    f\"The bottom country is {ratio_by_country.iloc[-1]['country']} with a public contributions percentage of {ratio_by_country.iloc[-1]['public_ratio']:.2f}%.\"\n",
    ")\n",
    "print(f\"Finland is ranked #{fi_idx + 1} in public contributions percentage.\")\n",
    "\n",
    "ratio_top30 = ratio_by_country.head(30)\n",
    "plt.figure(figsize=(10, 5))\n",
    "plt.bar(ratio_top30[\"country\"], ratio_top30[\"public_ratio\"])\n",
    "plt.xticks(rotation=90)\n",
    "plt.ylabel(\"Public contributions (%)\")\n",
    "\n",
    "# highlight Finland and annotate\n",
    "plt.gca().patches[fi_idx].set_color(\"skyblue\")\n",
    "plt.gca().annotate(\n",
    "    f\"{ratio_by_country.iloc[fi_idx]['public_ratio']:.2f}%\",\n",
    "    xy=(fi_idx, ratio_by_country.iloc[fi_idx][\"public_ratio\"]),\n",
    "    xytext=(fi_idx, ratio_by_country.iloc[fi_idx][\"public_ratio\"] + 5),\n",
    "    arrowprops=dict(facecolor=\"black\", arrowstyle=\"->\"),\n",
    "    ha=\"center\",\n",
    ")\n",
    "\n",
    "avg_public_ratio = ratio_by_country[\"public_ratio\"].mean()\n",
    "plt.axhline(\n",
    "    y=avg_public_ratio,\n",
    "    color=\"r\",\n",
    "    linestyle=\"--\",\n",
    "    label=f\"Overall Average: {avg_public_ratio:.2f}%\",\n",
    ")\n",
    "plt.legend()\n",
    "plt.title(\"Top committers’ public contributions percentage by country (Top 30)\")"
   ]
  },
  {
   "cell_type": "code",
   "execution_count": 42,
   "id": "adb1b659",
   "metadata": {},
   "outputs": [
    {
     "name": "stdout",
     "output_type": "stream",
     "text": [
      "The top country is Malaysia with a commit to public contributions percentage of 94.82%.\n",
      "The bottom country is Dominican Republic with a commit to public contributions percentage of 21.46%.\n",
      "Finland is ranked #126 in commit to public contributions percentage.\n"
     ]
    },
    {
     "data": {
      "image/png": "[encoded data removed]",
      "text/plain": [
       "<Figure size 1000x500 with 1 Axes>"
      ]
     },
     "metadata": {},
     "output_type": "display_data"
    }
   ],
   "source": [
    "# Commits vs Contributions\n",
    "\n",
    "commit_sum_by_country = (\n",
    "    filtered[filtered[\"rank_type\"] == \"commit\"].groupby(\"country\")[\"contribs\"].sum()\n",
    ")\n",
    "\n",
    "public_sum_by_country = (\n",
    "    filtered[filtered[\"rank_type\"] == \"public\"].groupby(\"country\")[\"contribs\"].sum()\n",
    ")\n",
    "\n",
    "ratio_commit_by_country = (\n",
    "    (commit_sum_by_country / public_sum_by_country * 100)\n",
    "    .dropna()\n",
    "    .sort_values(ascending=False)\n",
    "    .reset_index()\n",
    ")\n",
    "\n",
    "ratio_commit_by_country.columns = [\"country\", \"commit_ratio\"]\n",
    "fi_idx = ratio_commit_by_country[ratio_commit_by_country[\"country\"] == \"Finland\"].index[0]\n",
    "print(f\"The top country is {ratio_commit_by_country.iloc[0]['country']} with a commit to public contributions percentage of {ratio_commit_by_country.iloc[0]['commit_ratio']:.2f}%.\")\n",
    "print(f\"The bottom country is {ratio_commit_by_country.iloc[-1]['country']} with a commit to public contributions percentage of {ratio_commit_by_country.iloc[-1]['commit_ratio']:.2f}%.\")\n",
    "print(f\"Finland is ranked #{fi_idx + 1} in commit to public contributions percentage.\")\n",
    "\n",
    "ratio_commit_bottom30 = ratio_commit_by_country.tail(30)\n",
    "plt.figure(figsize=(10, 5))\n",
    "plt.bar(ratio_commit_bottom30[\"country\"], ratio_commit_bottom30[\"commit_ratio\"])\n",
    "plt.xticks(rotation=90)\n",
    "plt.ylabel(\"Commit to public contributions (%)\")\n",
    "# highlight Finland and annotate\n",
    "plt.gca().patches[fi_idx - (len(ratio_commit_by_country) - 30)].set_color(\"skyblue\")\n",
    "plt.gca().annotate(\n",
    "    f\"{ratio_commit_by_country.iloc[fi_idx]['commit_ratio']:.2f}%\",\n",
    "    xy=(fi_idx - (len(ratio_commit_by_country) - 30), ratio_commit_by_country.iloc[fi_idx][\"commit_ratio\"]),\n",
    "    xytext=(fi_idx - (len(ratio_commit_by_country) - 30), ratio_commit_by_country.iloc[fi_idx][\"commit_ratio\"] + 5),\n",
    "    arrowprops=dict(facecolor=\"black\", arrowstyle=\"->\"),\n",
    "    ha=\"center\",\n",
    ")\n",
    "avg_commit_ratio = ratio_commit_by_country[\"commit_ratio\"].mean()\n",
    "plt.axhline(y=avg_commit_ratio, color='r', linestyle='--', label=f\"Overall Average: {avg_commit_ratio:.2f}%\")\n",
    "plt.legend()\n",
    "plt.title(\"Top committers’ commit to public contributions percentage by country (Bottom 30)\")\n",
    "plt.show()"
   ]
  },
  {
   "cell_type": "code",
   "execution_count": 43,
   "id": "b4e84cf4",
   "metadata": {},
   "outputs": [
    {
     "data": {
      "text/html": [
       "<div>\n",
       "<style scoped>\n",
       "    .dataframe tbody tr th:only-of-type {\n",
       "        vertical-align: middle;\n",
       "    }\n",
       "\n",
       "    .dataframe tbody tr th {\n",
       "        vertical-align: top;\n",
       "    }\n",
       "\n",
       "    .dataframe thead th {\n",
       "        text-align: right;\n",
       "    }\n",
       "</style>\n",
       "<table border=\"1\" class=\"dataframe\">\n",
       "  <thead>\n",
       "    <tr style=\"text-align: right;\">\n",
       "      <th></th>\n",
       "      <th>country</th>\n",
       "      <th>contribs_private</th>\n",
       "      <th>contribs_public</th>\n",
       "      <th>contribs_commit</th>\n",
       "      <th>public_ratio</th>\n",
       "      <th>commit_ratio</th>\n",
       "    </tr>\n",
       "  </thead>\n",
       "  <tbody>\n",
       "    <tr>\n",
       "      <th>0</th>\n",
       "      <td>Afghanistan</td>\n",
       "      <td>1071.658824</td>\n",
       "      <td>215.550781</td>\n",
       "      <td>188.335938</td>\n",
       "      <td>20.113750</td>\n",
       "      <td>87.374277</td>\n",
       "    </tr>\n",
       "    <tr>\n",
       "      <th>1</th>\n",
       "      <td>Albania</td>\n",
       "      <td>702.396078</td>\n",
       "      <td>108.539062</td>\n",
       "      <td>94.714844</td>\n",
       "      <td>15.452686</td>\n",
       "      <td>87.263370</td>\n",
       "    </tr>\n",
       "    <tr>\n",
       "      <th>2</th>\n",
       "      <td>Algeria</td>\n",
       "      <td>1275.747036</td>\n",
       "      <td>290.347656</td>\n",
       "      <td>253.410156</td>\n",
       "      <td>22.759030</td>\n",
       "      <td>87.278182</td>\n",
       "    </tr>\n",
       "    <tr>\n",
       "      <th>3</th>\n",
       "      <td>Angola</td>\n",
       "      <td>890.286275</td>\n",
       "      <td>212.347656</td>\n",
       "      <td>185.863281</td>\n",
       "      <td>23.851615</td>\n",
       "      <td>87.527823</td>\n",
       "    </tr>\n",
       "    <tr>\n",
       "      <th>4</th>\n",
       "      <td>Argentina</td>\n",
       "      <td>1587.023529</td>\n",
       "      <td>612.160156</td>\n",
       "      <td>488.910156</td>\n",
       "      <td>38.572847</td>\n",
       "      <td>79.866380</td>\n",
       "    </tr>\n",
       "  </tbody>\n",
       "</table>\n",
       "</div>"
      ],
      "text/plain": [
       "       country  contribs_private  contribs_public  contribs_commit  \\\n",
       "0  Afghanistan       1071.658824       215.550781       188.335938   \n",
       "1      Albania        702.396078       108.539062        94.714844   \n",
       "2      Algeria       1275.747036       290.347656       253.410156   \n",
       "3       Angola        890.286275       212.347656       185.863281   \n",
       "4    Argentina       1587.023529       612.160156       488.910156   \n",
       "\n",
       "   public_ratio  commit_ratio  \n",
       "0     20.113750     87.374277  \n",
       "1     15.452686     87.263370  \n",
       "2     22.759030     87.278182  \n",
       "3     23.851615     87.527823  \n",
       "4     38.572847     79.866380  "
      ]
     },
     "execution_count": 43,
     "metadata": {},
     "output_type": "execute_result"
    }
   ],
   "source": [
    "# K-means cluster\n",
    "from sklearn.cluster import KMeans\n",
    "\n",
    "avg_committer_by_country = (\n",
    "    filtered[filtered[\"rank_type\"] == \"private\"]\n",
    "    .groupby(\"country\", as_index=False)[\"contribs\"]\n",
    "    .mean()\n",
    ")\n",
    "\n",
    "avg_public_contributor_by_country = (\n",
    "    filtered[filtered[\"rank_type\"] == \"public\"]\n",
    "    .groupby(\"country\", as_index=False)[\"contribs\"]\n",
    "    .mean()\n",
    ")\n",
    "\n",
    "avg_all_contributor_by_country = (\n",
    "    filtered[filtered[\"rank_type\"] == \"commit\"]\n",
    "    .groupby(\"country\", as_index=False)[\"contribs\"]\n",
    "    .mean()\n",
    ")\n",
    "\n",
    "merged = avg_committer_by_country.merge(\n",
    "    avg_public_contributor_by_country, on=\"country\", suffixes=(\"_private\", \"_public\")\n",
    ").merge(avg_all_contributor_by_country, on=\"country\")\n",
    "merged.rename(columns={\"contribs\": \"contribs_commit\"}, inplace=True)\n",
    "merged[\"public_ratio\"] = (\n",
    "    merged[\"contribs_public\"] / merged[\"contribs_private\"] * 100\n",
    ")\n",
    "merged[\"commit_ratio\"] = (\n",
    "    merged[\"contribs_commit\"] / merged[\"contribs_public\"] * 100\n",
    ")\n",
    "merged.head()"
   ]
  },
  {
   "cell_type": "code",
   "execution_count": 44,
   "id": "39b14539",
   "metadata": {},
   "outputs": [
    {
     "data": {
      "image/png": "[encoded data removed]",
      "text/plain": [
       "<Figure size 1000x400 with 2 Axes>"
      ]
     },
     "metadata": {},
     "output_type": "display_data"
    }
   ],
   "source": [
    "from sklearn.cluster import KMeans\n",
    "from sklearn.metrics import silhouette_score\n",
    "from sklearn.preprocessing import StandardScaler\n",
    "import matplotlib.pyplot as plt\n",
    "\n",
    "X = merged[[\"contribs_private\", \"contribs_public\", \"contribs_commit\", \"public_ratio\", \"commit_ratio\"]].values\n",
    "scaler = StandardScaler()\n",
    "X_scaled = scaler.fit_transform(X)\n",
    "\n",
    "inertias = []\n",
    "silhouette_scores = []\n",
    "K_range = range(2, 11)\n",
    "\n",
    "for k in K_range:\n",
    "    kmeans = KMeans(n_clusters=k, random_state=42, n_init=10)\n",
    "    kmeans.fit(X_scaled)\n",
    "    inertias.append(kmeans.inertia_)\n",
    "    score = silhouette_score(X_scaled, kmeans.labels_)\n",
    "    silhouette_scores.append(score)\n",
    "\n",
    "\n",
    "plt.figure(figsize=(10, 4))\n",
    "\n",
    "plt.subplot(1, 2, 1)\n",
    "plt.plot(K_range, inertias, marker=\"o\")\n",
    "plt.xlabel(\"Number of clusters\")\n",
    "plt.ylabel(\"Inertia (within-cluster sum of squares)\")\n",
    "plt.title(\"Elbow Method\")\n",
    "plt.grid(alpha=0.3)\n",
    "\n",
    "plt.subplot(1, 2, 2)\n",
    "plt.plot(K_range, silhouette_scores, marker=\"o\", color=\"green\")\n",
    "plt.xlabel(\"Number of clusters\")\n",
    "plt.ylabel(\"Silhouette Score (↑ better)\")\n",
    "plt.title(\"Silhouette Analysis\")\n",
    "plt.grid(alpha=0.3)"
   ]
  },
  {
   "cell_type": "code",
   "execution_count": 45,
   "id": "77901df8",
   "metadata": {},
   "outputs": [
    {
     "data": {
      "image/png": "[encoded data removed]",
      "text/plain": [
       "<Figure size 800x500 with 2 Axes>"
      ]
     },
     "metadata": {},
     "output_type": "display_data"
    }
   ],
   "source": [
    "# Let's set k=5, as it seems a good balance\n",
    "kmeans_5 = KMeans(n_clusters=5, random_state=42, n_init=10)\n",
    "merged[\"cluster\"] = kmeans_5.fit_predict(X_scaled)\n",
    "\n",
    "import seaborn as sns\n",
    "\n",
    "cluster_summary = (\n",
    "    merged.groupby(\"cluster\")[\n",
    "        [\n",
    "            \"contribs_private\",\n",
    "            \"contribs_public\",\n",
    "            \"contribs_commit\",\n",
    "            \"public_ratio\",\n",
    "            \"commit_ratio\",\n",
    "        ]\n",
    "    ]\n",
    "    .mean()\n",
    "    .round(2)\n",
    ")\n",
    "\n",
    "cluster_summary_scaled = (\n",
    "    cluster_summary - cluster_summary.mean()\n",
    ") / cluster_summary.std()\n",
    "\n",
    "plt.figure(figsize=(8, 5))\n",
    "sns.heatmap(\n",
    "    cluster_summary_scaled,\n",
    "    annot=True,\n",
    "    fmt=\".2f\",\n",
    "    cmap=\"coolwarm\",\n",
    "    cbar_kws={\"label\": \"Standardized value (z-score)\"},\n",
    ")\n",
    "\n",
    "plt.title(\"Average feature values per cluster (standardized heatmap)\")\n",
    "plt.ylabel(\"Cluster\")\n",
    "plt.xlabel(\"Feature\")\n",
    "plt.tight_layout()\n",
    "plt.show()"
   ]
  },
  {
   "cell_type": "code",
   "execution_count": 46,
   "id": "42abc3b8",
   "metadata": {},
   "outputs": [
    {
     "name": "stdout",
     "output_type": "stream",
     "text": [
      "Finland is in cluster 0 with the following stats:\n",
      "Countries in the same cluster as Finland: Argentina, Bangladesh, Brazil, Bulgaria, Chile, Colombia, Denmark, Egypt, Estonia, Ethiopia, Finland, Ghana, Greece, Hong Kong, Hungary, India, Indonesia, Iran, Ireland, Israel, Kenya, Mexico, Morocco, Nepal, New Zealand, Nigeria, Norway, Pakistan, Philippines, Portugal, Romania, Russia, Rwanda, Serbia, Singapore, South Africa, Sri Lanka, Taiwan, Thailand, Turkey, UAE, Uganda, Ukraine, Vietnam\n"
     ]
    }
   ],
   "source": [
    "# Output result\n",
    "\n",
    "clustered_finland = merged.loc[merged[\"country\"] == \"Finland\", [\"country\", \"cluster\"]]\n",
    "\n",
    "print(f\"Finland is in cluster {clustered_finland.iloc[0]['cluster']} with the following stats:\")\n",
    "\n",
    "cluster_summary.loc[merged.loc[merged[\"country\"] == \"Finland\", \"cluster\"].iloc[0]]\n",
    "\n",
    "# print out the countries in the same cluster as Finland\n",
    "same_cluster_countries = merged[merged[\"cluster\"] == clustered_finland.iloc[0][\"cluster\"]][\"country\"].tolist()\n",
    "print(f\"Countries in the same cluster as Finland: {', '.join(same_cluster_countries)}\")"
   ]
  },
  {
   "cell_type": "code",
   "execution_count": 49,
   "id": "53c4fc28",
   "metadata": {},
   "outputs": [
    {
     "name": "stderr",
     "output_type": "stream",
     "text": [
      "/var/folders/5w/l58qmhqx3yxgqfy26kvp4b380000gn/T/ipykernel_48826/2629650043.py:4: DeprecationWarning:\n",
      "\n",
      "The library used by the *country names* `locationmode` option is changing in an upcoming version. Country names in existing plots may not work in the new version. To ensure consistent behavior, consider setting `locationmode` to *ISO-3*.\n",
      "\n"
     ]
    },
    {
     "data": {
      "application/vnd.plotly.v1+json": {
       "config": {
        "plotlyServerURL": "https://plot.ly"
       },
       "data": [
        {
         "coloraxis": "coloraxis",
         "geo": "geo",
         "hovertemplate": "country=%{location}<br>cluster=%{z}<extra></extra>",
         "locationmode": "country names",
         "locations": [
          "Afghanistan",
          "Albania",
          "Algeria",
          "Angola",
          "Argentina",
          "Armenia",
          "Australia",
          "Austria",
          "Azerbaijan",
          "Bahrain",
          "Bangladesh",
          "Belarus",
          "Belgium",
          "Benin",
          "Bolivia",
          "Botswana",
          "Brazil",
          "Bulgaria",
          "Burkina Faso",
          "Burundi",
          "Cambodia",
          "Cameroon",
          "Canada",
          "Chad",
          "Chile",
          "China",
          "Colombia",
          "Croatia",
          "Cuba",
          "Cyprus",
          "Democratic Republic of the Congo",
          "Denmark",
          "Ecuador",
          "Egypt",
          "El Salvador",
          "Estonia",
          "Ethiopia",
          "Finland",
          "France",
          "Gabon",
          "Georgia",
          "Germany",
          "Ghana",
          "Greece",
          "Guatemala",
          "Guinea",
          "Haiti",
          "Honduras",
          "Hong Kong",
          "Hungary",
          "India",
          "Indonesia",
          "Iran",
          "Iraq",
          "Ireland",
          "Israel",
          "Italy",
          "Ivory Coast",
          "Japan",
          "Jordan",
          "Kazakhstan",
          "Kenya",
          "Kosovo",
          "Kyrgyzstan",
          "Laos",
          "Latvia",
          "Lebanon",
          "Libya",
          "Lithuania",
          "Luxembourg",
          "Macau",
          "Macedonia",
          "Madagascar",
          "Malawi",
          "Malaysia",
          "Mali",
          "Malta",
          "Mauritania",
          "Mauritius",
          "Mexico",
          "Moldova",
          "Morocco",
          "Mozambique",
          "Myanmar",
          "Nepal",
          "Netherlands",
          "New Zealand",
          "Nicaragua",
          "Niger",
          "Nigeria",
          "Norway",
          "Oman",
          "Pakistan",
          "Palestine",
          "Panama",
          "Papua New Guinea",
          "Paraguay",
          "Peru",
          "Philippines",
          "Poland",
          "Portugal",
          "Qatar",
          "Republic of Korea",
          "Republic of the Congo",
          "Romania",
          "Russia",
          "Rwanda",
          "Saudi Arabia",
          "Senegal",
          "Serbia",
          "Sierra Leone",
          "Singapore",
          "Slovakia",
          "Slovenia",
          "Somalia",
          "South Africa",
          "South Sudan",
          "Spain",
          "Sri Lanka",
          "Sudan",
          "Suriname",
          "Sweden",
          "Switzerland",
          "Syria",
          "Taiwan",
          "Tajikistan",
          "Tanzania",
          "Thailand",
          "The Bahamas",
          "Togo",
          "Tunisia",
          "Turkey",
          "Turkmenistan",
          "UAE",
          "UK",
          "Uganda",
          "Ukraine",
          "United States",
          "Uruguay",
          "Uzbekistan",
          "Venezuela",
          "Vietnam",
          "Yemen",
          "Zambia",
          "Zimbabwe"
         ],
         "name": "",
         "type": "choropleth",
         "z": {
          "bdata": "AgAAAAIAAAACAAAAAgAAAAAAAAACAAAAAwAAAAMAAAACAAAABAAAAAAAAAACAAAAAwAAAAIAAAACAAAABAAAAAAAAAAAAAAABAAAAAQAAAACAAAAAgAAAAMAAAABAAAAAAAAAAMAAAAAAAAAAgAAAAIAAAACAAAAAgAAAAAAAAACAAAAAAAAAAIAAAAAAAAAAAAAAAAAAAADAAAAAQAAAAIAAAADAAAAAAAAAAAAAAACAAAABAAAAAQAAAACAAAAAAAAAAAAAAAAAAAAAAAAAAAAAAACAAAAAAAAAAAAAAADAAAAAgAAAAMAAAACAAAAAgAAAAAAAAACAAAAAgAAAAQAAAACAAAAAgAAAAQAAAACAAAAAgAAAAEAAAACAAAAAgAAAAIAAAACAAAABAAAAAIAAAAEAAAABAAAAAAAAAACAAAAAAAAAAIAAAACAAAAAAAAAAMAAAAAAAAAAgAAAAQAAAAAAAAAAAAAAAIAAAAAAAAAAgAAAAIAAAAEAAAAAgAAAAIAAAAAAAAAAwAAAAAAAAACAAAAAwAAAAQAAAAAAAAAAAAAAAAAAAACAAAAAgAAAAAAAAAEAAAAAAAAAAIAAAACAAAAAgAAAAAAAAABAAAAAwAAAAAAAAAEAAAABAAAAAMAAAADAAAAAQAAAAAAAAACAAAAAgAAAAAAAAAEAAAAAgAAAAIAAAAAAAAABAAAAAAAAAADAAAAAAAAAAAAAAADAAAAAgAAAAIAAAACAAAAAAAAAAIAAAACAAAAAgAAAA==",
          "dtype": "i4"
         }
        }
       ],
       "layout": {
        "coloraxis": {
         "colorbar": {
          "title": {
           "text": "cluster"
          }
         },
         "colorscale": [
          [
           0,
           "#0d0887"
          ],
          [
           0.1111111111111111,
           "#46039f"
          ],
          [
           0.2222222222222222,
           "#7201a8"
          ],
          [
           0.3333333333333333,
           "#9c179e"
          ],
          [
           0.4444444444444444,
           "#bd3786"
          ],
          [
           0.5555555555555556,
           "#d8576b"
          ],
          [
           0.6666666666666666,
           "#ed7953"
          ],
          [
           0.7777777777777778,
           "#fb9f3a"
          ],
          [
           0.8888888888888888,
           "#fdca26"
          ],
          [
           1,
           "#f0f921"
          ]
         ]
        },
        "geo": {
         "center": {},
         "domain": {
          "x": [
           0,
           1
          ],
          "y": [
           0,
           1
          ]
         }
        },
        "legend": {
         "tracegroupgap": 0
        },
        "template": {
         "data": {
          "bar": [
           {
            "error_x": {
             "color": "#2a3f5f"
            },
            "error_y": {
             "color": "#2a3f5f"
            },
            "marker": {
             "line": {
              "color": "#E5ECF6",
              "width": 0.5
             },
             "pattern": {
              "fillmode": "overlay",
              "size": 10,
              "solidity": 0.2
             }
            },
            "type": "bar"
           }
          ],
          "barpolar": [
           {
            "marker": {
             "line": {
              "color": "#E5ECF6",
              "width": 0.5
             },
             "pattern": {
              "fillmode": "overlay",
              "size": 10,
              "solidity": 0.2
             }
            },
            "type": "barpolar"
           }
          ],
          "carpet": [
           {
            "aaxis": {
             "endlinecolor": "#2a3f5f",
             "gridcolor": "white",
             "linecolor": "white",
             "minorgridcolor": "white",
             "startlinecolor": "#2a3f5f"
            },
            "baxis": {
             "endlinecolor": "#2a3f5f",
             "gridcolor": "white",
             "linecolor": "white",
             "minorgridcolor": "white",
             "startlinecolor": "#2a3f5f"
            },
            "type": "carpet"
           }
          ],
          "choropleth": [
           {
            "colorbar": {
             "outlinewidth": 0,
             "ticks": ""
            },
            "type": "choropleth"
           }
          ],
          "contour": [
           {
            "colorbar": {
             "outlinewidth": 0,
             "ticks": ""
            },
            "colorscale": [
             [
              0,
              "#0d0887"
             ],
             [
              0.1111111111111111,
              "#46039f"
             ],
             [
              0.2222222222222222,
              "#7201a8"
             ],
             [
              0.3333333333333333,
              "#9c179e"
             ],
             [
              0.4444444444444444,
              "#bd3786"
             ],
             [
              0.5555555555555556,
              "#d8576b"
             ],
             [
              0.6666666666666666,
              "#ed7953"
             ],
             [
              0.7777777777777778,
              "#fb9f3a"
             ],
             [
              0.8888888888888888,
              "#fdca26"
             ],
             [
              1,
              "#f0f921"
             ]
            ],
            "type": "contour"
           }
          ],
          "contourcarpet": [
           {
            "colorbar": {
             "outlinewidth": 0,
             "ticks": ""
            },
            "type": "contourcarpet"
           }
          ],
          "heatmap": [
           {
            "colorbar": {
             "outlinewidth": 0,
             "ticks": ""
            },
            "colorscale": [
             [
              0,
              "#0d0887"
             ],
             [
              0.1111111111111111,
              "#46039f"
             ],
             [
              0.2222222222222222,
              "#7201a8"
             ],
             [
              0.3333333333333333,
              "#9c179e"
             ],
             [
              0.4444444444444444,
              "#bd3786"
             ],
             [
              0.5555555555555556,
              "#d8576b"
             ],
             [
              0.6666666666666666,
              "#ed7953"
             ],
             [
              0.7777777777777778,
              "#fb9f3a"
             ],
             [
              0.8888888888888888,
              "#fdca26"
             ],
             [
              1,
              "#f0f921"
             ]
            ],
            "type": "heatmap"
           }
          ],
          "histogram": [
           {
            "marker": {
             "pattern": {
              "fillmode": "overlay",
              "size": 10,
              "solidity": 0.2
             }
            },
            "type": "histogram"
           }
          ],
          "histogram2d": [
           {
            "colorbar": {
             "outlinewidth": 0,
             "ticks": ""
            },
            "colorscale": [
             [
              0,
              "#0d0887"
             ],
             [
              0.1111111111111111,
              "#46039f"
             ],
             [
              0.2222222222222222,
              "#7201a8"
             ],
             [
              0.3333333333333333,
              "#9c179e"
             ],
             [
              0.4444444444444444,
              "#bd3786"
             ],
             [
              0.5555555555555556,
              "#d8576b"
             ],
             [
              0.6666666666666666,
              "#ed7953"
             ],
             [
              0.7777777777777778,
              "#fb9f3a"
             ],
             [
              0.8888888888888888,
              "#fdca26"
             ],
             [
              1,
              "#f0f921"
             ]
            ],
            "type": "histogram2d"
           }
          ],
          "histogram2dcontour": [
           {
            "colorbar": {
             "outlinewidth": 0,
             "ticks": ""
            },
            "colorscale": [
             [
              0,
              "#0d0887"
             ],
             [
              0.1111111111111111,
              "#46039f"
             ],
             [
              0.2222222222222222,
              "#7201a8"
             ],
             [
              0.3333333333333333,
              "#9c179e"
             ],
             [
              0.4444444444444444,
              "#bd3786"
             ],
             [
              0.5555555555555556,
              "#d8576b"
             ],
             [
              0.6666666666666666,
              "#ed7953"
             ],
             [
              0.7777777777777778,
              "#fb9f3a"
             ],
             [
              0.8888888888888888,
              "#fdca26"
             ],
             [
              1,
              "#f0f921"
             ]
            ],
            "type": "histogram2dcontour"
           }
          ],
          "mesh3d": [
           {
            "colorbar": {
             "outlinewidth": 0,
             "ticks": ""
            },
            "type": "mesh3d"
           }
          ],
          "parcoords": [
           {
            "line": {
             "colorbar": {
              "outlinewidth": 0,
              "ticks": ""
             }
            },
            "type": "parcoords"
           }
          ],
          "pie": [
           {
            "automargin": true,
            "type": "pie"
           }
          ],
          "scatter": [
           {
            "fillpattern": {
             "fillmode": "overlay",
             "size": 10,
             "solidity": 0.2
            },
            "type": "scatter"
           }
          ],
          "scatter3d": [
           {
            "line": {
             "colorbar": {
              "outlinewidth": 0,
              "ticks": ""
             }
            },
            "marker": {
             "colorbar": {
              "outlinewidth": 0,
              "ticks": ""
             }
            },
            "type": "scatter3d"
           }
          ],
          "scattercarpet": [
           {
            "marker": {
             "colorbar": {
              "outlinewidth": 0,
              "ticks": ""
             }
            },
            "type": "scattercarpet"
           }
          ],
          "scattergeo": [
           {
            "marker": {
             "colorbar": {
              "outlinewidth": 0,
              "ticks": ""
             }
            },
            "type": "scattergeo"
           }
          ],
          "scattergl": [
           {
            "marker": {
             "colorbar": {
              "outlinewidth": 0,
              "ticks": ""
             }
            },
            "type": "scattergl"
           }
          ],
          "scattermap": [
           {
            "marker": {
             "colorbar": {
              "outlinewidth": 0,
              "ticks": ""
             }
            },
            "type": "scattermap"
           }
          ],
          "scattermapbox": [
           {
            "marker": {
             "colorbar": {
              "outlinewidth": 0,
              "ticks": ""
             }
            },
            "type": "scattermapbox"
           }
          ],
          "scatterpolar": [
           {
            "marker": {
             "colorbar": {
              "outlinewidth": 0,
              "ticks": ""
             }
            },
            "type": "scatterpolar"
           }
          ],
          "scatterpolargl": [
           {
            "marker": {
             "colorbar": {
              "outlinewidth": 0,
              "ticks": ""
             }
            },
            "type": "scatterpolargl"
           }
          ],
          "scatterternary": [
           {
            "marker": {
             "colorbar": {
              "outlinewidth": 0,
              "ticks": ""
             }
            },
            "type": "scatterternary"
           }
          ],
          "surface": [
           {
            "colorbar": {
             "outlinewidth": 0,
             "ticks": ""
            },
            "colorscale": [
             [
              0,
              "#0d0887"
             ],
             [
              0.1111111111111111,
              "#46039f"
             ],
             [
              0.2222222222222222,
              "#7201a8"
             ],
             [
              0.3333333333333333,
              "#9c179e"
             ],
             [
              0.4444444444444444,
              "#bd3786"
             ],
             [
              0.5555555555555556,
              "#d8576b"
             ],
             [
              0.6666666666666666,
              "#ed7953"
             ],
             [
              0.7777777777777778,
              "#fb9f3a"
             ],
             [
              0.8888888888888888,
              "#fdca26"
             ],
             [
              1,
              "#f0f921"
             ]
            ],
            "type": "surface"
           }
          ],
          "table": [
           {
            "cells": {
             "fill": {
              "color": "#EBF0F8"
             },
             "line": {
              "color": "white"
             }
            },
            "header": {
             "fill": {
              "color": "#C8D4E3"
             },
             "line": {
              "color": "white"
             }
            },
            "type": "table"
           }
          ]
         },
         "layout": {
          "annotationdefaults": {
           "arrowcolor": "#2a3f5f",
           "arrowhead": 0,
           "arrowwidth": 1
          },
          "autotypenumbers": "strict",
          "coloraxis": {
           "colorbar": {
            "outlinewidth": 0,
            "ticks": ""
           }
          },
          "colorscale": {
           "diverging": [
            [
             0,
             "#8e0152"
            ],
            [
             0.1,
             "#c51b7d"
            ],
            [
             0.2,
             "#de77ae"
            ],
            [
             0.3,
             "#f1b6da"
            ],
            [
             0.4,
             "#fde0ef"
            ],
            [
             0.5,
             "#f7f7f7"
            ],
            [
             0.6,
             "#e6f5d0"
            ],
            [
             0.7,
             "#b8e186"
            ],
            [
             0.8,
             "#7fbc41"
            ],
            [
             0.9,
             "#4d9221"
            ],
            [
             1,
             "#276419"
            ]
           ],
           "sequential": [
            [
             0,
             "#0d0887"
            ],
            [
             0.1111111111111111,
             "#46039f"
            ],
            [
             0.2222222222222222,
             "#7201a8"
            ],
            [
             0.3333333333333333,
             "#9c179e"
            ],
            [
             0.4444444444444444,
             "#bd3786"
            ],
            [
             0.5555555555555556,
             "#d8576b"
            ],
            [
             0.6666666666666666,
             "#ed7953"
            ],
            [
             0.7777777777777778,
             "#fb9f3a"
            ],
            [
             0.8888888888888888,
             "#fdca26"
            ],
            [
             1,
             "#f0f921"
            ]
           ],
           "sequentialminus": [
            [
             0,
             "#0d0887"
            ],
            [
             0.1111111111111111,
             "#46039f"
            ],
            [
             0.2222222222222222,
             "#7201a8"
            ],
            [
             0.3333333333333333,
             "#9c179e"
            ],
            [
             0.4444444444444444,
             "#bd3786"
            ],
            [
             0.5555555555555556,
             "#d8576b"
            ],
            [
             0.6666666666666666,
             "#ed7953"
            ],
            [
             0.7777777777777778,
             "#fb9f3a"
            ],
            [
             0.8888888888888888,
             "#fdca26"
            ],
            [
             1,
             "#f0f921"
            ]
           ]
          },
          "colorway": [
           "#636efa",
           "#EF553B",
           "#00cc96",
           "#ab63fa",
           "#FFA15A",
           "#19d3f3",
           "#FF6692",
           "#B6E880",
           "#FF97FF",
           "#FECB52"
          ],
          "font": {
           "color": "#2a3f5f"
          },
          "geo": {
           "bgcolor": "white",
           "lakecolor": "white",
           "landcolor": "#E5ECF6",
           "showlakes": true,
           "showland": true,
           "subunitcolor": "white"
          },
          "hoverlabel": {
           "align": "left"
          },
          "hovermode": "closest",
          "mapbox": {
           "style": "light"
          },
          "paper_bgcolor": "white",
          "plot_bgcolor": "#E5ECF6",
          "polar": {
           "angularaxis": {
            "gridcolor": "white",
            "linecolor": "white",
            "ticks": ""
           },
           "bgcolor": "#E5ECF6",
           "radialaxis": {
            "gridcolor": "white",
            "linecolor": "white",
            "ticks": ""
           }
          },
          "scene": {
           "xaxis": {
            "backgroundcolor": "#E5ECF6",
            "gridcolor": "white",
            "gridwidth": 2,
            "linecolor": "white",
            "showbackground": true,
            "ticks": "",
            "zerolinecolor": "white"
           },
           "yaxis": {
            "backgroundcolor": "#E5ECF6",
            "gridcolor": "white",
            "gridwidth": 2,
            "linecolor": "white",
            "showbackground": true,
            "ticks": "",
            "zerolinecolor": "white"
           },
           "zaxis": {
            "backgroundcolor": "#E5ECF6",
            "gridcolor": "white",
            "gridwidth": 2,
            "linecolor": "white",
            "showbackground": true,
            "ticks": "",
            "zerolinecolor": "white"
           }
          },
          "shapedefaults": {
           "line": {
            "color": "#2a3f5f"
           }
          },
          "ternary": {
           "aaxis": {
            "gridcolor": "white",
            "linecolor": "white",
            "ticks": ""
           },
           "baxis": {
            "gridcolor": "white",
            "linecolor": "white",
            "ticks": ""
           },
           "bgcolor": "#E5ECF6",
           "caxis": {
            "gridcolor": "white",
            "linecolor": "white",
            "ticks": ""
           }
          },
          "title": {
           "x": 0.05
          },
          "xaxis": {
           "automargin": true,
           "gridcolor": "white",
           "linecolor": "white",
           "ticks": "",
           "title": {
            "standoff": 15
           },
           "zerolinecolor": "white",
           "zerolinewidth": 2
          },
          "yaxis": {
           "automargin": true,
           "gridcolor": "white",
           "linecolor": "white",
           "ticks": "",
           "title": {
            "standoff": 15
           },
           "zerolinecolor": "white",
           "zerolinewidth": 2
          }
         }
        },
        "title": {
         "text": "Committers Cluster by Country"
        }
       }
      }
     },
     "metadata": {},
     "output_type": "display_data"
    }
   ],
   "source": [
    "# visual\n",
    "import plotly.express as px\n",
    "\n",
    "fig = px.choropleth(\n",
    "    merged,\n",
    "    locations=\"country\",\n",
    "    locationmode=\"country names\",\n",
    "    color=\"cluster\",\n",
    "    title=\"Committers Cluster by Country\",\n",
    ")\n",
    "fig.show()\n",
    "\n",
    "fig.write_html(\"./visual/clusters_map.html\", include_plotlyjs=\"cdn\")"
   ]
  }
 ],
 "metadata": {
  "kernelspec": {
   "display_name": ".venv",
   "language": "python",
   "name": "python3"
  },
  "language_info": {
   "codemirror_mode": {
    "name": "ipython",
    "version": 3
   },
   "file_extension": ".py",
   "mimetype": "text/x-python",
   "name": "python",
   "nbconvert_exporter": "python",
   "pygments_lexer": "ipython3",
   "version": "3.13.7"
  }
 },
 "nbformat": 4,
 "nbformat_minor": 5
}
